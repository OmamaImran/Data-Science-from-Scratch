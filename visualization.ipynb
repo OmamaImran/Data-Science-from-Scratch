{
 "cells": [
  {
   "cell_type": "code",
   "execution_count": 1,
   "id": "f37130a6",
   "metadata": {},
   "outputs": [],
   "source": [
    "import matplotlib.pyplot as plt"
   ]
  },
  {
   "cell_type": "markdown",
   "id": "23d615af",
   "metadata": {},
   "source": [
    "# Barcharts"
   ]
  },
  {
   "cell_type": "markdown",
   "id": "6f5cf85d",
   "metadata": {},
   "source": [
    "oscars"
   ]
  },
  {
   "cell_type": "code",
   "execution_count": 2,
   "id": "edcf7233",
   "metadata": {},
   "outputs": [],
   "source": [
    "movies = [\"Annie Hall\", \"Ben-Hur\", \"Casablanca\", \"Gandhi\", \"West Side Story\"]\n",
    "num_oscars = [5, 11, 3, 8, 10]"
   ]
  },
  {
   "cell_type": "code",
   "execution_count": 3,
   "id": "4783bb06",
   "metadata": {
    "scrolled": true
   },
   "outputs": [
    {
     "data": {
      "text/plain": [
       "<BarContainer object of 5 artists>"
      ]
     },
     "execution_count": 3,
     "metadata": {},
     "output_type": "execute_result"
    },
    {
     "data": {
      "image/png": "[encoded data removed]",
      "text/plain": [
       "<Figure size 432x288 with 1 Axes>"
      ]
     },
     "metadata": {
      "needs_background": "light"
     },
     "output_type": "display_data"
    }
   ],
   "source": [
    "plt.bar(movies,num_oscars)"
   ]
  },
  {
   "cell_type": "markdown",
   "id": "12c9a551",
   "metadata": {},
   "source": [
    "exam distribution"
   ]
  },
  {
   "cell_type": "markdown",
   "id": "5270cece",
   "metadata": {},
   "source": [
    "making a histogram using a barchart"
   ]
  },
  {
   "cell_type": "code",
   "execution_count": 20,
   "id": "a894016f",
   "metadata": {},
   "outputs": [],
   "source": [
    "grades = [83,95,91,87,70,0,85,82,100,67,73,77,0]\n"
   ]
  },
  {
   "cell_type": "code",
   "execution_count": 10,
   "id": "6baa9dba",
   "metadata": {},
   "outputs": [],
   "source": [
    "decile=[grade//10*10 for grade in grades]"
   ]
  },
  {
   "cell_type": "code",
   "execution_count": 11,
   "id": "d03597bf",
   "metadata": {},
   "outputs": [
    {
     "data": {
      "text/plain": [
       "[80, 90, 90, 80, 70, 0, 80, 80, 100, 60, 70, 70, 0]"
      ]
     },
     "execution_count": 11,
     "metadata": {},
     "output_type": "execute_result"
    }
   ],
   "source": [
    "decile"
   ]
  },
  {
   "cell_type": "code",
   "execution_count": 12,
   "id": "d599d782",
   "metadata": {},
   "outputs": [],
   "source": [
    "hist= Counter(decile)"
   ]
  },
  {
   "cell_type": "code",
   "execution_count": 13,
   "id": "0a9bec68",
   "metadata": {
    "scrolled": true
   },
   "outputs": [
    {
     "data": {
      "text/plain": [
       "Counter({80: 4, 90: 2, 70: 3, 0: 2, 100: 1, 60: 1})"
      ]
     },
     "execution_count": 13,
     "metadata": {},
     "output_type": "execute_result"
    }
   ],
   "source": [
    "hist"
   ]
  },
  {
   "cell_type": "code",
   "execution_count": 17,
   "id": "486f20eb",
   "metadata": {
    "scrolled": true
   },
   "outputs": [
    {
     "data": {
      "text/plain": [
       "<BarContainer object of 6 artists>"
      ]
     },
     "execution_count": 17,
     "metadata": {},
     "output_type": "execute_result"
    },
    {
     "data": {
      "image/png": "[encoded data removed]",
      "text/plain": [
       "<Figure size 432x288 with 1 Axes>"
      ]
     },
     "metadata": {
      "needs_background": "light"
     },
     "output_type": "display_data"
    }
   ],
   "source": [
    "plt.bar(hist.keys(),hist.values(),8)"
   ]
  },
  {
   "cell_type": "markdown",
   "id": "0b6b645e",
   "metadata": {},
   "source": [
    "using the hist()"
   ]
  },
  {
   "cell_type": "code",
   "execution_count": 19,
   "id": "e21d0231",
   "metadata": {
    "scrolled": true
   },
   "outputs": [
    {
     "data": {
      "text/plain": [
       "(array([2., 0., 0., 0., 0., 0., 1., 3., 4., 3.]),\n",
       " array([  0.,  10.,  20.,  30.,  40.,  50.,  60.,  70.,  80.,  90., 100.]),\n",
       " <BarContainer object of 10 artists>)"
      ]
     },
     "execution_count": 19,
     "metadata": {},
     "output_type": "execute_result"
    },
    {
     "data": {
      "image/png": "[encoded data removed]",
      "text/plain": [
       "<Figure size 432x288 with 1 Axes>"
      ]
     },
     "metadata": {
      "needs_background": "light"
     },
     "output_type": "display_data"
    }
   ],
   "source": [
    "plt.hist(grades)"
   ]
  },
  {
   "cell_type": "code",
   "execution_count": 21,
   "id": "f851b437",
   "metadata": {},
   "outputs": [],
   "source": [
    "mentions = [500, 505]\n",
    "years = [2013, 2014]\n"
   ]
  },
  {
   "cell_type": "code",
   "execution_count": 45,
   "id": "d392617a",
   "metadata": {
    "scrolled": true
   },
   "outputs": [
    {
     "data": {
      "text/plain": [
       "(2012.5, 2014.5, 499.0, 506.0)"
      ]
     },
     "execution_count": 45,
     "metadata": {},
     "output_type": "execute_result"
    },
    {
     "data": {
      "image/png": "[encoded data removed]",
      "text/plain": [
       "<Figure size 432x288 with 1 Axes>"
      ]
     },
     "metadata": {
      "needs_background": "light"
     },
     "output_type": "display_data"
    }
   ],
   "source": [
    "plt.bar(years,mentions)\n",
    "plt.xticks(years)\n",
    "plt.ticklabel_format(useOffset=False)\n",
    "plt.axis([2012.5, 2014.5,499,506])"
   ]
  },
  {
   "cell_type": "markdown",
   "id": "ba7f578b",
   "metadata": {},
   "source": [
    "# Line charts"
   ]
  },
  {
   "cell_type": "code",
   "execution_count": 47,
   "id": "5bffd9b2",
   "metadata": {},
   "outputs": [
    {
     "data": {
      "text/plain": [
       "[257, 130, 68, 40, 32, 40, 68, 130, 257]"
      ]
     },
     "execution_count": 47,
     "metadata": {},
     "output_type": "execute_result"
    }
   ],
   "source": [
    "variance = [1, 2, 4, 8, 16, 32, 64, 128, 256]\n",
    "bias_squared = [256, 128, 64, 32, 16, 8, 4, 2, 1]\n",
    "total_error = [x + y for x, y in zip(variance, bias_squared)]\n",
    "total_error"
   ]
  },
  {
   "cell_type": "code",
   "execution_count": 48,
   "id": "8065250c",
   "metadata": {},
   "outputs": [
    {
     "data": {
      "text/plain": [
       "[0, 1, 2, 3, 4, 5, 6, 7, 8]"
      ]
     },
     "execution_count": 48,
     "metadata": {},
     "output_type": "execute_result"
    }
   ],
   "source": [
    "xs = [i for i, _ in enumerate(variance)]\n",
    "xs"
   ]
  },
  {
   "cell_type": "code",
   "execution_count": 55,
   "id": "bf6cea5b",
   "metadata": {},
   "outputs": [
    {
     "data": {
      "text/plain": [
       "<matplotlib.legend.Legend at 0x1e28d44d100>"
      ]
     },
     "execution_count": 55,
     "metadata": {},
     "output_type": "execute_result"
    },
    {
     "data": {
      "image/png": "[encoded data removed]",
      "text/plain": [
       "<Figure size 432x288 with 1 Axes>"
      ]
     },
     "metadata": {
      "needs_background": "light"
     },
     "output_type": "display_data"
    }
   ],
   "source": [
    "plt.plot(xs, variance, 'g-', label='variance') \n",
    "plt.plot(xs, bias_squared, 'r-.', label=\"bias squared\")\n",
    "plt.plot(xs, total_error, \"b:\", label=\"total error\")\n",
    "plt.legend(loc=9)"
   ]
  },
  {
   "cell_type": "markdown",
   "id": "907790f9",
   "metadata": {},
   "source": [
    "# Scatter plots"
   ]
  },
  {
   "cell_type": "code",
   "execution_count": null,
   "id": "517286d3",
   "metadata": {},
   "outputs": [],
   "source": []
  }
 ],
 "metadata": {
  "kernelspec": {
   "display_name": "Python 3 (ipykernel)",
   "language": "python",
   "name": "python3"
  },
  "language_info": {
   "codemirror_mode": {
    "name": "ipython",
    "version": 3
   },
   "file_extension": ".py",
   "mimetype": "text/x-python",
   "name": "python",
   "nbconvert_exporter": "python",
   "pygments_lexer": "ipython3",
   "version": "3.9.7"
  }
 },
 "nbformat": 4,
 "nbformat_minor": 5
}
